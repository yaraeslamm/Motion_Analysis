{
  "nbformat": 4,
  "nbformat_minor": 0,
  "metadata": {
    "colab": {
      "provenance": [],
      "authorship_tag": "ABX9TyNHf/zSHuoc5vGD3UAR/S9C",
      "include_colab_link": true
    },
    "kernelspec": {
      "name": "python3",
      "display_name": "Python 3"
    },
    "language_info": {
      "name": "python"
    }
  },
  "cells": [
    {
      "cell_type": "markdown",
      "metadata": {
        "id": "view-in-github",
        "colab_type": "text"
      },
      "source": [
        "<a href=\"https://colab.research.google.com/github/yaraeslamm/Motion_Analysis/blob/main/Motion_Analysis.ipynb\" target=\"_parent\"><img src=\"https://colab.research.google.com/assets/colab-badge.svg\" alt=\"Open In Colab\"/></a>"
      ]
    },
    {
      "cell_type": "code",
      "execution_count": null,
      "metadata": {
        "id": "DnB2uTP7pSTG",
        "colab": {
          "base_uri": "https://localhost:8080/"
        },
        "outputId": "e5a78bf5-f4fd-40b6-fcd0-78498e04692d"
      },
      "outputs": [
        {
          "output_type": "stream",
          "name": "stdout",
          "text": [
            "Mounted at /content/drive\n",
            "Processing complete. Outputs saved in /content/drive/My Drive\n"
          ]
        }
      ],
      "source": [
        "# First, we need to mount Google Drive to access the video\n",
        "from google.colab import drive\n",
        "import cv2\n",
        "import numpy as np\n",
        "import os\n",
        "\n",
        "# Mount Google Drive\n",
        "drive.mount('/content/drive')\n",
        "\n",
        "\n",
        "# Define the paths\n",
        "base_path = \"/content/drive/My Drive\"\n",
        "video_path = os.path.join(base_path, \"wave.avi\")  # Replace with your video file name in Drive\n",
        "mei_folder = os.path.join(base_path, \"AVP/MEI\")\n",
        "mhi_folder = os.path.join(base_path, \"AVP/MHI\")\n",
        "\n",
        "# Create folders for saving MEI and MHI frames\n",
        "os.makedirs(mei_folder, exist_ok=True)\n",
        "os.makedirs(mhi_folder, exist_ok=True)\n",
        "\n",
        "# Initialize MEI and MHI computation\n",
        "cap = cv2.VideoCapture(video_path)\n",
        "ret, frame = cap.read()\n",
        "if not ret:\n",
        "    print(\"Error: Unable to read video.\")\n",
        "    cap.release()\n",
        "    exit()\n",
        "\n",
        "# Step 2: Define dimensions and initialize variables\n",
        "height, width = frame.shape[:2]\n",
        "mei = np.zeros((height, width), dtype=np.uint8)  # Motion Energy Image (binary)\n",
        "mhi = np.zeros((height, width), dtype=np.float32)  # Motion History Image\n",
        "timestamp = 1  # Initialize timestamp for MHI\n",
        "\n",
        "# Parameters\n",
        "duration = 30  # Decay duration for MHI in frames\n",
        "threshold = 25  # Threshold for detecting motion\n",
        "\n",
        "frame_idx = 0  # Frame index for saving images\n",
        "\n",
        "# Step 3: Process the video frame by frame\n",
        "while ret:\n",
        "    # Convert frame to grayscale\n",
        "    gray_frame = cv2.cvtColor(frame, cv2.COLOR_BGR2GRAY)\n",
        "\n",
        "    # Apply a binary threshold to detect motion (binarize)\n",
        "    if frame_idx == 0:\n",
        "        prev_frame = gray_frame  # Initialize with the first frame\n",
        "    else:\n",
        "        # Compute frame difference\n",
        "        diff_frame = cv2.absdiff(prev_frame, gray_frame)\n",
        "        _, binary_frame = cv2.threshold(diff_frame, threshold, 255, cv2.THRESH_BINARY)\n",
        "\n",
        "        # Update MEI\n",
        "        mei = cv2.bitwise_or(mei, binary_frame)\n",
        "\n",
        "        # Update MHI\n",
        "        mhi[binary_frame > 0] = timestamp  # Update timestamp for moving pixels\n",
        "        mhi[mhi > 0] -= 1  # Decrease timestamp for older motion\n",
        "\n",
        "        # Normalize MHI for visualization (scale to [0, 255])\n",
        "        mhi_normalized = np.uint8((mhi / duration) * 255)\n",
        "\n",
        "        # Save intermediate MEI and MHI frames\n",
        "        cv2.imwrite(os.path.join(mei_folder, f\"mei_frame_{frame_idx:04d}.jpg\"), mei)\n",
        "        cv2.imwrite(os.path.join(mhi_folder, f\"mhi_frame_{frame_idx:04d}.jpg\"), mhi_normalized)\n",
        "\n",
        "    # Prepare for next frame\n",
        "    prev_frame = gray_frame.copy()\n",
        "    frame_idx += 1\n",
        "    timestamp += 1\n",
        "    ret, frame = cap.read()\n",
        "\n",
        "cap.release()\n",
        "\n",
        "# Step 4: Save final MEI and MHI templates\n",
        "cv2.imwrite(os.path.join(base_path, \"MEI.png\"), mei)\n",
        "cv2.imwrite(os.path.join(base_path, \"MHI.png\"), mhi_normalized)\n",
        "\n",
        "print(f\"Processing complete. Outputs saved in {base_path}\")\n"
      ]
    }
  ]
}